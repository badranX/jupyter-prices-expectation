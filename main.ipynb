{
 "cells": [
  {
   "cell_type": "code",
   "execution_count": 6,
   "id": "31c318cd-8048-41be-b850-ee705d5bbc99",
   "metadata": {},
   "outputs": [],
   "source": [
    "import pandas as pd\n",
    "import numpy as np\n",
    "import matplotlib.pyplot as plt\n",
    "\n",
    "k = 0\n",
    "pushup_price = 2."
   ]
  },
  {
   "cell_type": "code",
   "execution_count": 144,
   "id": "b139c0b6-8256-4421-9453-4fdc802c8431",
   "metadata": {},
   "outputs": [],
   "source": [
    "#Useful functions\n",
    "def scatter_fit(dfs):\n",
    "    #plots a scatter point and fits a polynomial\n",
    "    \n",
    "    from scipy.optimize import curve_fit\n",
    "    fig, ax = plt.subplots()\n",
    "    #dfs = [(df - df.min())/(df.max() - df.min())for df in dfs]\n",
    "    ax.scatter(x=dfs[0], y=dfs[1])\n",
    "    ax.ticklabel_format(useOffset=False)\n",
    "    ax.set_xlabel(dfs[0].name)\n",
    "    ax.set_ylabel(dfs[1].name)\n",
    "\n",
    "    func = lambda x, a, b, c: a * x**0.5 + b*x + c\n",
    "\n",
    "    popt, pcov = curve_fit(func, dfs[0], dfs[1])\n",
    "    ax.plot(dfs[0].sort_values(), func(dfs[0].sort_values(), *popt))\n",
    "    plt.show()\n",
    "    return lambda x: func(x, *popt)\n",
    "\n",
    "def plot(dfs):\n",
    "    fig, ax = plt.subplots()\n",
    "    #dfs = [(df - df.min())/(df.max() - df.min())for df in dfs]\n",
    "    for i, df in enumerate(dfs):\n",
    "        df.plot(ax=ax, label=str(i))\n",
    "        plt.legend(loc=\"upper left\")\n",
    "    plt.show()"
   ]
  },
  {
   "cell_type": "code",
   "execution_count": 180,
   "id": "fb439051-25dc-4d55-a67a-0570af235e0a",
   "metadata": {
    "tags": []
   },
   "outputs": [
    {
     "name": "stdout",
     "output_type": "stream",
     "text": [
      "num_null_rows/num_rows :  0.08823529411764706\n"
     ]
    }
   ],
   "source": [
    "df = pd.read_csv(\"data.csv\")\n",
    "num_rows = df.shape[0]\n",
    "num_null_rows = df.isnull().any(axis=1).sum()\n",
    "print(\"num_null_rows/num_rows : \", float(num_null_rows)/float(num_rows))\n",
    "\n",
    "#TODO ask about NULL values in the data\n",
    "#For now remove NULL values\n",
    "\n",
    "df = df[df.notnull().all(axis=1)]\n",
    "#easydf = df.rename(columns={\"avg_listing_price_eur\" : \"avg_price\", \"number_of_listings\":\"num\", \"revenue_from_push_ups\": \"revenue\"})\n",
    "AVG_ITEM_PRICE = \"avg_listing_price_eur\"\n",
    "ITEMS_COUNT = \"number_of_listings\"\n",
    "REVENUE = \"revenue_from_push_ups\"\n",
    "R = \"R\" #Expected total revenue"
   ]
  },
  {
   "cell_type": "code",
   "execution_count": 181,
   "id": "b1471680-0327-4eb7-b335-496175592213",
   "metadata": {
    "tags": []
   },
   "outputs": [
    {
     "data": {
      "text/html": [
       "<div>\n",
       "<style scoped>\n",
       "    .dataframe tbody tr th:only-of-type {\n",
       "        vertical-align: middle;\n",
       "    }\n",
       "\n",
       "    .dataframe tbody tr th {\n",
       "        vertical-align: top;\n",
       "    }\n",
       "\n",
       "    .dataframe thead th {\n",
       "        text-align: right;\n",
       "    }\n",
       "</style>\n",
       "<table border=\"1\" class=\"dataframe\">\n",
       "  <thead>\n",
       "    <tr style=\"text-align: right;\">\n",
       "      <th></th>\n",
       "      <th>category_2</th>\n",
       "      <th>category_3</th>\n",
       "      <th>number_of_listings</th>\n",
       "      <th>avg_listing_price_eur</th>\n",
       "      <th>revenue_from_push_ups</th>\n",
       "    </tr>\n",
       "  </thead>\n",
       "  <tbody>\n",
       "    <tr>\n",
       "      <th>0</th>\n",
       "      <td>ACCESSORIES_JEWELLERY</td>\n",
       "      <td>ACCESS_MOBILE</td>\n",
       "      <td>14228</td>\n",
       "      <td>28.081851</td>\n",
       "      <td>492.0</td>\n",
       "    </tr>\n",
       "    <tr>\n",
       "      <th>1</th>\n",
       "      <td>ACCESSORIES_JEWELLERY</td>\n",
       "      <td>BELTS</td>\n",
       "      <td>29838</td>\n",
       "      <td>21.273161</td>\n",
       "      <td>1382.0</td>\n",
       "    </tr>\n",
       "    <tr>\n",
       "      <th>2</th>\n",
       "      <td>ACCESSORIES_JEWELLERY</td>\n",
       "      <td>GLOVES</td>\n",
       "      <td>6350</td>\n",
       "      <td>17.043860</td>\n",
       "      <td>304.0</td>\n",
       "    </tr>\n",
       "    <tr>\n",
       "      <th>3</th>\n",
       "      <td>ACCESSORIES_JEWELLERY</td>\n",
       "      <td>JEWELRY</td>\n",
       "      <td>343493</td>\n",
       "      <td>17.935880</td>\n",
       "      <td>20554.0</td>\n",
       "    </tr>\n",
       "    <tr>\n",
       "      <th>5</th>\n",
       "      <td>ACCESSORIES_JEWELLERY</td>\n",
       "      <td>OTHER_ACCESSORIES_AND_JEWELLERY</td>\n",
       "      <td>52245</td>\n",
       "      <td>33.023548</td>\n",
       "      <td>2782.0</td>\n",
       "    </tr>\n",
       "  </tbody>\n",
       "</table>\n",
       "</div>"
      ],
      "text/plain": [
       "              category_2                       category_3  number_of_listings  \\\n",
       "0  ACCESSORIES_JEWELLERY                    ACCESS_MOBILE               14228   \n",
       "1  ACCESSORIES_JEWELLERY                            BELTS               29838   \n",
       "2  ACCESSORIES_JEWELLERY                           GLOVES                6350   \n",
       "3  ACCESSORIES_JEWELLERY                          JEWELRY              343493   \n",
       "5  ACCESSORIES_JEWELLERY  OTHER_ACCESSORIES_AND_JEWELLERY               52245   \n",
       "\n",
       "   avg_listing_price_eur  revenue_from_push_ups  \n",
       "0              28.081851                  492.0  \n",
       "1              21.273161                 1382.0  \n",
       "2              17.043860                  304.0  \n",
       "3              17.935880                20554.0  \n",
       "5              33.023548                 2782.0  "
      ]
     },
     "execution_count": 181,
     "metadata": {},
     "output_type": "execute_result"
    }
   ],
   "source": [
    "df.head()"
   ]
  },
  {
   "cell_type": "markdown",
   "id": "dd377035-84a0-40a0-bc5d-ef409a44d407",
   "metadata": {},
   "source": [
    "## Section 1:\n",
    "\n",
    "####  A metric to check if users are interested in the feature and which categories perform the best according to this"
   ]
  },
  {
   "cell_type": "code",
   "execution_count": 401,
   "id": "12c60e6a-7910-4ccc-b76b-a2aeb406654c",
   "metadata": {},
   "outputs": [
    {
     "name": "stdout",
     "output_type": "stream",
     "text": [
      "First Metric:  0.032098737041135784\n"
     ]
    }
   ],
   "source": [
    "purchase_count = df[REVENUE]/pushup_price\n",
    "metric1_per_category = purchase_count/df[ITEMS_COUNT]\n",
    "metric1 = purchase_count.sum()/df[ITEMS_COUNT].sum()\n",
    "print(\"First Metric: \", metric1)"
   ]
  },
  {
   "cell_type": "code",
   "execution_count": 389,
   "id": "e6eda51d-f29f-4228-81cd-ef81f48d18cf",
   "metadata": {},
   "outputs": [
    {
     "data": {
      "text/plain": [
       "category_2               MEN_SHOES_NEW\n",
       "category_3                  MEN_FORMAL\n",
       "number_of_listings                  33\n",
       "avg_listing_price_eur        82.545455\n",
       "revenue_from_push_ups             12.0\n",
       "Name: 168, dtype: object"
      ]
     },
     "execution_count": 389,
     "metadata": {},
     "output_type": "execute_result"
    }
   ],
   "source": [
    "df.iloc[metric1_per_category.argmax()]"
   ]
  },
  {
   "cell_type": "code",
   "execution_count": 407,
   "id": "b8cd40c2-a023-4fa6-bf21-544d1438f532",
   "metadata": {},
   "outputs": [
    {
     "data": {
      "text/plain": [
       "2.193826782927558"
      ]
     },
     "execution_count": 407,
     "metadata": {},
     "output_type": "execute_result"
    }
   ],
   "source": [
    "#Metric3: revenue per item\n",
    "#metric4 = df[REVENUE]/(df[ITEMS_COUNT]*df[AVG_ITEM_PRICE])\n",
    "metric4 = (metric1*2)*df[AVG_ITEM_PRICE]\n",
    "#metric4 = df[R\n",
    "#metric4 = df[ITEMS_COUNT]*metric4\n",
    "metric4.mean()"
   ]
  },
  {
   "cell_type": "code",
   "execution_count": 408,
   "id": "afcd2714-48ee-4ee5-a099-6537ed2ac84c",
   "metadata": {},
   "outputs": [
    {
     "data": {
      "text/plain": [
       "0.6262806392794462"
      ]
     },
     "execution_count": 408,
     "metadata": {},
     "output_type": "execute_result"
    },
    {
     "data": {
      "image/png": "[encoded data removed]",
      "text/plain": [
       "<Figure size 432x288 with 1 Axes>"
      ]
     },
     "metadata": {
      "needs_background": "light"
     },
     "output_type": "display_data"
    }
   ],
   "source": [
    "#plt.scatter(x=metric1_per_category, y=metric2_per_category)\n",
    "plt.scatter(x=metric1_per_category, y=metric4)\n",
    "(metric1_per_category).corr(metric4)"
   ]
  },
  {
   "cell_type": "code",
   "execution_count": 386,
   "id": "d8771fb3-cc46-4b18-8477-af31950f8361",
   "metadata": {},
   "outputs": [
    {
     "data": {
      "text/plain": [
       "number_of_listings       0.180559\n",
       "avg_listing_price_eur   -0.510061\n",
       "revenue_from_push_ups    0.143431\n",
       "dtype: float64"
      ]
     },
     "execution_count": 386,
     "metadata": {},
     "output_type": "execute_result"
    }
   ],
   "source": [
    "df.corrwith(metric4)"
   ]
  },
  {
   "cell_type": "markdown",
   "id": "adbfb082-65d4-483f-a8b6-9ae3f8a49c9a",
   "metadata": {
    "tags": []
   },
   "source": [
    "## Section1: C"
   ]
  },
  {
   "cell_type": "code",
   "execution_count": 88,
   "id": "bf98a98f-7124-4a00-b0e6-e46492db1866",
   "metadata": {},
   "outputs": [
    {
     "data": {
      "text/plain": [
       "887728.0"
      ]
     },
     "execution_count": 88,
     "metadata": {},
     "output_type": "execute_result"
    }
   ],
   "source": [
    "df[REVENUE].sum()"
   ]
  },
  {
   "cell_type": "markdown",
   "id": "6b7b60cb-0817-4268-a8bd-65610e981953",
   "metadata": {
    "tags": []
   },
   "source": [
    "## Section2 B:experience"
   ]
  },
  {
   "cell_type": "code",
   "execution_count": 173,
   "id": "43a9f804-cdff-40f4-b785-5ab065b721c5",
   "metadata": {},
   "outputs": [],
   "source": [
    "def add_dynamic_price_features(df):\n",
    "    #k is a constant equals to the minimum allowed price\n",
    "    #r proportional (or equals if k=0) to the push-up price percentage from AVG_ITEM_PRICE\n",
    "    #r = p*AVG_ITEM_PRICE + k\n",
    "    #R is the expected total revenue.\n",
    "    \n",
    "    outdf = pd.DataFrame(df)\n",
    "    r = (pushup_price - k)/df[AVG_ITEM_PRICE]\n",
    "    outdf[\"price_percentage\"] = r\n",
    "    items_count = df[ITEMS_COUNT].sum()\n",
    "    currentR = df[REVENUE].sum()\n",
    "    items_count = df[ITEMS_COUNT].sum()\n",
    "\n",
    "    R_per_item = df[REVENUE]/df[ITEMS_COUNT]\n",
    "    outdf[\"purchase_count/item\"] = (df[REVENUE]/pushup_price)/df[ITEMS_COUNT]\n",
    "    #outdf[\"revenue/item\"] = df[REVENUE]/df[ITEMS_COUNT]\n",
    "\n",
    "    #calculate R: the expected revenue\n",
    "    #since the data is small, we use a foor loop instead of vectorizing\n",
    "    R = np.zeros(df.shape[0])\n",
    "    for i, (rr, Prob) in enumerate(zip(outdf[\"price_percentage\"], outdf[\"purchase_count/item\"])):\n",
    "        X = df[AVG_ITEM_PRICE]\n",
    "        #Prob = df[\"p/item\"]\n",
    "        items_count = df[ITEMS_COUNT]\n",
    "        new_pushup_price = rr*X + k\n",
    "        number_of_purchases = Prob*items_count\n",
    "        R[i] = (new_pushup_price*number_of_purchases).sum()\n",
    "        \n",
    "    outdf[\"expected_total_revenue\"] = R.tolist()\n",
    "    return outdf"
   ]
  },
  {
   "cell_type": "code",
   "execution_count": 174,
   "id": "fd839bb7-7584-456e-a2e0-a0d222cf592d",
   "metadata": {},
   "outputs": [],
   "source": [
    "### THIRD ATTEMPT at B2 ###\n",
    "#ignoring categories and focusing on calculating the relation between revenu and  avg_price\n",
    "#the following help make small samples for each price\n",
    "\n",
    "dfn = df.iloc[:,2:]\n",
    "max_p= dfn[AVG_ITEM_PRICE].max()\n",
    "cut = pd.cut(x=dfn[AVG_ITEM_PRICE], bins=np.arange(0.0, max_p, 1.0))\n",
    "dfn = dfn.groupby(cut).agg({ITEMS_COUNT:\"sum\", AVG_ITEM_PRICE:\"mean\", REVENUE:\"sum\"})\n",
    "dfn = dfn[dfn.notnull().all(axis=1)]\n",
    "\n",
    "dfn = add_dynamic_price_features(dfn)"
   ]
  },
  {
   "cell_type": "code",
   "execution_count": 175,
   "id": "0436ca66-d776-4288-9613-09413df1f2f3",
   "metadata": {},
   "outputs": [
    {
     "data": {
      "image/png": "[encoded data removed]",
      "text/plain": [
       "<Figure size 432x288 with 1 Axes>"
      ]
     },
     "metadata": {
      "needs_background": "light"
     },
     "output_type": "display_data"
    }
   ],
   "source": [
    "func = scatter_fit([dfn[\"price_percentage\"], dfn[\"expected_total_revenue\"]])"
   ]
  },
  {
   "cell_type": "code",
   "execution_count": 412,
   "id": "e50ff2a6-b733-4375-a5df-b29598b02c07",
   "metadata": {},
   "outputs": [
    {
     "data": {
      "image/png": "[encoded data removed]",
      "text/plain": [
       "<Figure size 432x288 with 1 Axes>"
      ]
     },
     "metadata": {
      "needs_background": "light"
     },
     "output_type": "display_data"
    },
    {
     "data": {
      "text/plain": [
       "<function __main__.scatter_fit.<locals>.<lambda>(x)>"
      ]
     },
     "execution_count": 412,
     "metadata": {},
     "output_type": "execute_result"
    }
   ],
   "source": [
    "dfn2 = add_dynamic_price_features(df)\n",
    "scatter_fit([dfn2[\"price_percentage\"], dfn2[\"expected_total_revenue\"]])"
   ]
  },
  {
   "cell_type": "code",
   "execution_count": 172,
   "id": "13861e49-6d91-4f75-8a49-3a5b06e04d71",
   "metadata": {
    "tags": []
   },
   "outputs": [
    {
     "name": "stdout",
     "output_type": "stream",
     "text": [
      "The max is approximately around 0.2 percentage.\n",
      "current totatl revenue:  887442.0  Euro\n",
      "------\n",
      "nearest neighbours to 0.2 percentage:\n"
     ]
    },
    {
     "data": {
      "text/html": [
       "<div>\n",
       "<style scoped>\n",
       "    .dataframe tbody tr th:only-of-type {\n",
       "        vertical-align: middle;\n",
       "    }\n",
       "\n",
       "    .dataframe tbody tr th {\n",
       "        vertical-align: top;\n",
       "    }\n",
       "\n",
       "    .dataframe thead th {\n",
       "        text-align: right;\n",
       "    }\n",
       "</style>\n",
       "<table border=\"1\" class=\"dataframe\">\n",
       "  <thead>\n",
       "    <tr style=\"text-align: right;\">\n",
       "      <th></th>\n",
       "      <th>price_percentage</th>\n",
       "      <th>expected_total_revenue</th>\n",
       "    </tr>\n",
       "    <tr>\n",
       "      <th>avg_listing_price_eur</th>\n",
       "      <th></th>\n",
       "      <th></th>\n",
       "    </tr>\n",
       "  </thead>\n",
       "  <tbody>\n",
       "    <tr>\n",
       "      <th>(10.0, 11.0]</th>\n",
       "      <td>0.189171</td>\n",
       "      <td>1.188695e+06</td>\n",
       "    </tr>\n",
       "    <tr>\n",
       "      <th>(9.0, 10.0]</th>\n",
       "      <td>0.212333</td>\n",
       "      <td>1.079392e+06</td>\n",
       "    </tr>\n",
       "  </tbody>\n",
       "</table>\n",
       "</div>"
      ],
      "text/plain": [
       "                       price_percentage  expected_total_revenue\n",
       "avg_listing_price_eur                                          \n",
       "(10.0, 11.0]                   0.189171            1.188695e+06\n",
       "(9.0, 10.0]                    0.212333            1.079392e+06"
      ]
     },
     "execution_count": 172,
     "metadata": {},
     "output_type": "execute_result"
    }
   ],
   "source": [
    "print(\"The max is approximately around 0.2 percentage.\")\n",
    "print(\"current totatl revenue: \", dfn[REVENUE].sum(), \" Euro\")\n",
    "print(\"------\")\n",
    "print(\"nearest neighbours to 0.2 percentage:\")\n",
    "dfn.iloc[(dfn[\"price_percentage\"]-0.2).abs().argsort()[:2]][[\"price_percentage\", \"expected_total_revenue\"]]"
   ]
  },
  {
   "cell_type": "code",
   "execution_count": 411,
   "id": "bc979ce8-32dd-4938-99ea-75c98a61107f",
   "metadata": {},
   "outputs": [
    {
     "name": "stdout",
     "output_type": "stream",
     "text": [
      "Function approximation of percentage mapped to expected_revenue at 0.2:\n",
      "1210758.7755731465  Euro\n"
     ]
    }
   ],
   "source": [
    "print(\"Function approximation of percentage mapped to expected_revenue at 0.2:\")\n",
    "print(func(0.2), \" Euro\")"
   ]
  },
  {
   "cell_type": "markdown",
   "id": "7e089057-ae20-4e76-af57-77bb7320322f",
   "metadata": {},
   "source": [
    "The graph shows that around a 0.2 price percentage of the \"average new-feature item price\", we achieve a maximum expected revenue. More than that we start losing. To find the expected revenue, we either take the nearest neighbor of the maximum, or use our function approximation our data $f(x)$ such that $f(x) = $ expected total revenue at $x$.\n",
    "\n",
    "So according to the fit the expected revenue is around 1200000 Euro, while the one nearest neoubour expected revenue is between one million and 120000 million Euro.\n",
    "\n"
   ]
  },
  {
   "cell_type": "markdown",
   "id": "afa4eb57-e15a-4931-a28d-23143c18a995",
   "metadata": {},
   "source": [
    "### Section2: A"
   ]
  },
  {
   "cell_type": "code",
   "execution_count": 179,
   "id": "6987a749-f399-495b-b8db-7b2acc686a4c",
   "metadata": {},
   "outputs": [],
   "source": [
    "#A simple method to approximate price chane\n",
    "#new_price = 4\n",
    "#percentage_factor = new_price/pushup_price \n",
    "\n",
    "#dfn = add_dynamic_price_features(df)\n",
    "#df[\"price_percentage\"]*percentage_factor\n",
    "\n",
    "#With the new percentages we approximate a mapping from \"price_percentage\" to the feature \"purchase_count_per_item\"\n",
    "#with that we can generate a new \"revenue\" based on the new price thus calculating an approximate expected total price\n",
    "\n",
    "#dfn.iloc[(dfn[\"price_percentage\"]-0.2).abs().argsort()[:2]][[\"price_percentage\", \"expected_total_revenue\"]]"
   ]
  },
  {
   "cell_type": "markdown",
   "id": "fc649063-bcc7-44fc-96dc-206abebca935",
   "metadata": {},
   "source": [
    "## Section 3"
   ]
  },
  {
   "cell_type": "code",
   "execution_count": 432,
   "id": "368ec7a4-c0ac-4dbc-bcca-1ab045d4a202",
   "metadata": {},
   "outputs": [
    {
     "data": {
      "text/html": [
       "<div>\n",
       "<style scoped>\n",
       "    .dataframe tbody tr th:only-of-type {\n",
       "        vertical-align: middle;\n",
       "    }\n",
       "\n",
       "    .dataframe tbody tr th {\n",
       "        vertical-align: top;\n",
       "    }\n",
       "\n",
       "    .dataframe thead th {\n",
       "        text-align: right;\n",
       "    }\n",
       "</style>\n",
       "<table border=\"1\" class=\"dataframe\">\n",
       "  <thead>\n",
       "    <tr style=\"text-align: right;\">\n",
       "      <th></th>\n",
       "      <th>category_2</th>\n",
       "      <th>category_3</th>\n",
       "      <th>number_of_listings</th>\n",
       "      <th>avg_listing_price_eur</th>\n",
       "      <th>revenue_from_push_ups</th>\n",
       "      <th>price_percentage</th>\n",
       "      <th>purchase_count/item</th>\n",
       "      <th>revenue/item</th>\n",
       "      <th>expected_total_revenue</th>\n",
       "    </tr>\n",
       "  </thead>\n",
       "  <tbody>\n",
       "    <tr>\n",
       "      <th>235</th>\n",
       "      <td>WOMENS</td>\n",
       "      <td>TOPS_T_SHIRTS</td>\n",
       "      <td>1844512</td>\n",
       "      <td>10.469959</td>\n",
       "      <td>76166.0</td>\n",
       "      <td>0.191023</td>\n",
       "      <td>0.020647</td>\n",
       "      <td>0.041293</td>\n",
       "      <td>1.186904e+06</td>\n",
       "    </tr>\n",
       "    <tr>\n",
       "      <th>222</th>\n",
       "      <td>WOMENS</td>\n",
       "      <td>DRESSES</td>\n",
       "      <td>860056</td>\n",
       "      <td>39.783769</td>\n",
       "      <td>79424.0</td>\n",
       "      <td>0.050272</td>\n",
       "      <td>0.046174</td>\n",
       "      <td>0.092347</td>\n",
       "      <td>6.985539e+05</td>\n",
       "    </tr>\n",
       "    <tr>\n",
       "      <th>228</th>\n",
       "      <td>WOMENS</td>\n",
       "      <td>PULLOVERS_SWEATERS</td>\n",
       "      <td>713152</td>\n",
       "      <td>14.512787</td>\n",
       "      <td>47128.0</td>\n",
       "      <td>0.137810</td>\n",
       "      <td>0.033042</td>\n",
       "      <td>0.066084</td>\n",
       "      <td>1.370336e+06</td>\n",
       "    </tr>\n",
       "    <tr>\n",
       "      <th>227</th>\n",
       "      <td>WOMENS</td>\n",
       "      <td>OUTERWEAR</td>\n",
       "      <td>377058</td>\n",
       "      <td>46.638132</td>\n",
       "      <td>57032.0</td>\n",
       "      <td>0.042883</td>\n",
       "      <td>0.075628</td>\n",
       "      <td>0.151255</td>\n",
       "      <td>9.760007e+05</td>\n",
       "    </tr>\n",
       "    <tr>\n",
       "      <th>3</th>\n",
       "      <td>ACCESSORIES_JEWELLERY</td>\n",
       "      <td>JEWELRY</td>\n",
       "      <td>343493</td>\n",
       "      <td>17.935880</td>\n",
       "      <td>20554.0</td>\n",
       "      <td>0.111508</td>\n",
       "      <td>0.029919</td>\n",
       "      <td>0.059838</td>\n",
       "      <td>1.004007e+06</td>\n",
       "    </tr>\n",
       "    <tr>\n",
       "      <th>...</th>\n",
       "      <td>...</td>\n",
       "      <td>...</td>\n",
       "      <td>...</td>\n",
       "      <td>...</td>\n",
       "      <td>...</td>\n",
       "      <td>...</td>\n",
       "      <td>...</td>\n",
       "      <td>...</td>\n",
       "      <td>...</td>\n",
       "    </tr>\n",
       "    <tr>\n",
       "      <th>99</th>\n",
       "      <td>FOOTWEAR</td>\n",
       "      <td>TRADITIONAL_WOMEN_SHOES</td>\n",
       "      <td>72</td>\n",
       "      <td>24.555556</td>\n",
       "      <td>2.0</td>\n",
       "      <td>0.081448</td>\n",
       "      <td>0.013889</td>\n",
       "      <td>0.027778</td>\n",
       "      <td>3.404306e+05</td>\n",
       "    </tr>\n",
       "    <tr>\n",
       "      <th>160</th>\n",
       "      <td>MEN_OUTERWEAR</td>\n",
       "      <td>MEN_OUT_CAPES</td>\n",
       "      <td>65</td>\n",
       "      <td>45.791538</td>\n",
       "      <td>2.0</td>\n",
       "      <td>0.043676</td>\n",
       "      <td>0.015385</td>\n",
       "      <td>0.030769</td>\n",
       "      <td>2.022145e+05</td>\n",
       "    </tr>\n",
       "    <tr>\n",
       "      <th>156</th>\n",
       "      <td>MEN_FOOTWEAR</td>\n",
       "      <td>MEN_FOO_WELLINGTON_BOOTS</td>\n",
       "      <td>63</td>\n",
       "      <td>68.413333</td>\n",
       "      <td>6.0</td>\n",
       "      <td>0.029234</td>\n",
       "      <td>0.047619</td>\n",
       "      <td>0.095238</td>\n",
       "      <td>4.189390e+05</td>\n",
       "    </tr>\n",
       "    <tr>\n",
       "      <th>168</th>\n",
       "      <td>MEN_SHOES_NEW</td>\n",
       "      <td>MEN_FORMAL</td>\n",
       "      <td>33</td>\n",
       "      <td>82.545455</td>\n",
       "      <td>12.0</td>\n",
       "      <td>0.024229</td>\n",
       "      <td>0.181818</td>\n",
       "      <td>0.363636</td>\n",
       "      <td>1.325730e+06</td>\n",
       "    </tr>\n",
       "    <tr>\n",
       "      <th>42</th>\n",
       "      <td>BAGS_BACKPACKS</td>\n",
       "      <td>SATCHELS_NEW</td>\n",
       "      <td>13</td>\n",
       "      <td>14.307692</td>\n",
       "      <td>2.0</td>\n",
       "      <td>0.139785</td>\n",
       "      <td>0.076923</td>\n",
       "      <td>0.153846</td>\n",
       "      <td>3.235921e+06</td>\n",
       "    </tr>\n",
       "  </tbody>\n",
       "</table>\n",
       "<p>217 rows × 9 columns</p>\n",
       "</div>"
      ],
      "text/plain": [
       "                category_2                category_3  number_of_listings  \\\n",
       "235                 WOMENS             TOPS_T_SHIRTS             1844512   \n",
       "222                 WOMENS                   DRESSES              860056   \n",
       "228                 WOMENS        PULLOVERS_SWEATERS              713152   \n",
       "227                 WOMENS                 OUTERWEAR              377058   \n",
       "3    ACCESSORIES_JEWELLERY                   JEWELRY              343493   \n",
       "..                     ...                       ...                 ...   \n",
       "99                FOOTWEAR   TRADITIONAL_WOMEN_SHOES                  72   \n",
       "160          MEN_OUTERWEAR             MEN_OUT_CAPES                  65   \n",
       "156           MEN_FOOTWEAR  MEN_FOO_WELLINGTON_BOOTS                  63   \n",
       "168          MEN_SHOES_NEW                MEN_FORMAL                  33   \n",
       "42          BAGS_BACKPACKS              SATCHELS_NEW                  13   \n",
       "\n",
       "     avg_listing_price_eur  revenue_from_push_ups  price_percentage  \\\n",
       "235              10.469959                76166.0          0.191023   \n",
       "222              39.783769                79424.0          0.050272   \n",
       "228              14.512787                47128.0          0.137810   \n",
       "227              46.638132                57032.0          0.042883   \n",
       "3                17.935880                20554.0          0.111508   \n",
       "..                     ...                    ...               ...   \n",
       "99               24.555556                    2.0          0.081448   \n",
       "160              45.791538                    2.0          0.043676   \n",
       "156              68.413333                    6.0          0.029234   \n",
       "168              82.545455                   12.0          0.024229   \n",
       "42               14.307692                    2.0          0.139785   \n",
       "\n",
       "     purchase_count/item  revenue/item  expected_total_revenue  \n",
       "235             0.020647      0.041293            1.186904e+06  \n",
       "222             0.046174      0.092347            6.985539e+05  \n",
       "228             0.033042      0.066084            1.370336e+06  \n",
       "227             0.075628      0.151255            9.760007e+05  \n",
       "3               0.029919      0.059838            1.004007e+06  \n",
       "..                   ...           ...                     ...  \n",
       "99              0.013889      0.027778            3.404306e+05  \n",
       "160             0.015385      0.030769            2.022145e+05  \n",
       "156             0.047619      0.095238            4.189390e+05  \n",
       "168             0.181818      0.363636            1.325730e+06  \n",
       "42              0.076923      0.153846            3.235921e+06  \n",
       "\n",
       "[217 rows x 9 columns]"
      ]
     },
     "execution_count": 432,
     "metadata": {},
     "output_type": "execute_result"
    }
   ],
   "source": [
    "df.sort_values([ITEMS_COUNT, AVG_ITEM_PRICE],ascending=False)#/df[ITEMS_COUNT].sum()"
   ]
  },
  {
   "cell_type": "code",
   "execution_count": 441,
   "id": "4a12346b-4dd9-4b1c-9d75-163ea3fba564",
   "metadata": {},
   "outputs": [
    {
     "data": {
      "text/plain": [
       "222    0.062196\n",
       "Name: number_of_listings, dtype: float64"
      ]
     },
     "execution_count": 441,
     "metadata": {},
     "output_type": "execute_result"
    }
   ],
   "source": [
    "df[df[\"category_3\"]==\"DRESSES\"][ITEMS_COUNT]/df[ITEMS_COUNT].sum()"
   ]
  },
  {
   "cell_type": "code",
   "execution_count": 436,
   "id": "7ed7be12-e3a7-42aa-8a86-9b47d4f0d494",
   "metadata": {},
   "outputs": [
    {
     "data": {
      "text/plain": [
       "34.173101267443684"
      ]
     },
     "execution_count": 436,
     "metadata": {},
     "output_type": "execute_result"
    }
   ],
   "source": [
    "df[AVG_ITEM_PRICE].mean()"
   ]
  }
 ],
 "metadata": {
  "kernelspec": {
   "display_name": "Python 3 (ipykernel)",
   "language": "python",
   "name": "python3"
  },
  "language_info": {
   "codemirror_mode": {
    "name": "ipython",
    "version": 3
   },
   "file_extension": ".py",
   "mimetype": "text/x-python",
   "name": "python",
   "nbconvert_exporter": "python",
   "pygments_lexer": "ipython3",
   "version": "3.10.5"
  }
 },
 "nbformat": 4,
 "nbformat_minor": 5
}
